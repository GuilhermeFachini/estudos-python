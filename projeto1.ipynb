{
 "cells": [
  {
   "cell_type": "code",
   "execution_count": 1,
   "metadata": {},
   "outputs": [],
   "source": [
    "from selenium import webdriver\n",
    "from selenium.webdriver.chrome.service import Service\n",
    "from webdriver_manager.chrome import ChromeDriverManager\n",
    "import time\n",
    "from selenium.webdriver.common.keys import Keys\n",
    "from selenium.webdriver.common.by import By\n",
    "\n",
    "\n",
    "service = Service(ChromeDriverManager().install())\n",
    "nav = webdriver.Chrome(service=service)\n",
    "nav.get(\"https://www.instagram.com\")\n",
    "time.sleep(2)\n",
    "\n",
    "class InstagramBot:\n",
    "    def __init__(self, username, password):\n",
    "        self.username = username\n",
    "        self.password = password\n",
    "\n",
    "    def login(self):\n",
    "        user_element = nav.find_element(By.NAME, 'username')\n",
    "        user_element.clear()\n",
    "        user_element.send_keys(self.username)\n",
    "\n",
    "        pass_element = nav.find_element(By.NAME, 'password')\n",
    "        pass_element.clear()\n",
    "        pass_element.send_keys(self.password)\n",
    "        pass_element.send_keys(Keys.ENTER)  # Enter de login\n",
    "        time.sleep(5)\n",
    "\n",
    "# Criar uma instância do InstagramBot e chamar o método login\n",
    "venhaBot = InstagramBot('Seu Usuario', 'Sua senha')\n",
    "venhaBot.login()\n"
   ]
  },
  {
   "cell_type": "code",
   "execution_count": 22,
   "metadata": {},
   "outputs": [],
   "source": [
    "#informação de Login, botão agora não\n",
    "login = nav.find_element(By.CLASS_NAME, '_ac8f')\n",
    "login.click()"
   ]
  },
  {
   "cell_type": "code",
   "execution_count": 23,
   "metadata": {},
   "outputs": [],
   "source": [
    "#Ativar notificações, botão agora não\n",
    "noti = nav.find_element(By.CLASS_NAME, '_a9_1')\n",
    "noti.click()"
   ]
  },
  {
   "cell_type": "code",
   "execution_count": 24,
   "metadata": {},
   "outputs": [],
   "source": [
    "#clicar no botão reels\n",
    "reels = nav.find_element(By.XPATH, '//a[@href=\"/reels/\" and @role=\"link\"]')\n",
    "reels.click()"
   ]
  },
  {
   "cell_type": "code",
   "execution_count": 25,
   "metadata": {},
   "outputs": [],
   "source": [
    "import pyautogui\n",
    "\n",
    "# Número total de reels\n",
    "total_reels = 5\n",
    "\n",
    "# Loop para passar pelos \"Reels\"\n",
    "for _ in range(total_reels):\n",
    "    x = 705.21875 #ajustar coordenada x\n",
    "    y = 380.375 #ajustar coordenada y\n",
    "    pyautogui.moveTo(x, y, duration=0.5)  # Move o mouse para as coordenadas (x, y)\n",
    "    # click mouse esquerdo\n",
    "    time.sleep(0.5)\n",
    "    pyautogui.click()\n",
    "    # próximo reels\n",
    "    pyautogui.press('down')\n",
    "\n",
    "    # Aguardar próximo reels\n",
    "    time.sleep(5)\n",
    "\n",
    "    \n"
   ]
  }
 ],
 "metadata": {
  "kernelspec": {
   "display_name": "Python 3",
   "language": "python",
   "name": "python3"
  },
  "language_info": {
   "codemirror_mode": {
    "name": "ipython",
    "version": 3
   },
   "file_extension": ".py",
   "mimetype": "text/x-python",
   "name": "python",
   "nbconvert_exporter": "python",
   "pygments_lexer": "ipython3",
   "version": "3.11.5"
  },
  "orig_nbformat": 4
 },
 "nbformat": 4,
 "nbformat_minor": 2
}
